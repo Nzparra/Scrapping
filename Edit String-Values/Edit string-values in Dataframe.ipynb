{
 "cells": [
  {
   "cell_type": "code",
   "execution_count": 76,
   "id": "2cb643dd",
   "metadata": {},
   "outputs": [
    {
     "name": "stderr",
     "output_type": "stream",
     "text": [
      "  0%|          | 0/10000 [00:00<?, ?it/s]\n"
     ]
    }
   ],
   "source": [
    "import itertools\n",
    "import pandas as pd\n",
    "from tqdm import tqdm\n",
    "\n",
    "def split_rows(row1, row2, row3, row4, row5):\n",
    "    layer1 = row1.split(\"_\", 2)\n",
    "    layer5 = row5.split(\"_\", 1)\n",
    "    row = list(itertools.chain(layer1,layer5))\n",
    "    row = delete_under_line(row)\n",
    "    return row\n",
    "    \n",
    "def delete_under_line(layer):\n",
    "    new_list = []\n",
    "    if(len(layer) == 1):\n",
    "        return layer\n",
    "    for item in layer:\n",
    "        new_list.append(item.replace(\"_\", \" \"))\n",
    "    return new_list\n",
    "        \n",
    "column_names = [\"Skin\", \"Face\", \"Eyes\",\"Hair/Hat\", \"Haircolour\"]\n",
    "df1 = pd.DataFrame(columns = column_names)  \n",
    "df = pd.read_excel('DF_properties.xlsx', index_col=0)\n",
    "for index, row in tqdm(list(df.iterrows())):\n",
    "    row_list = split_rows(row['Layer_1'], row['Layer_2'], row['Layer_3'],row['Layer_4'],row['Layer_5'])\n",
    "    df1 = df1.append(pd.Series(row_list, index = df1.columns), ignore_index=True)\n",
    "    break\n",
    "df1.to_excel('output1.xlsx')  \n"
   ]
  },
  {
   "cell_type": "code",
   "execution_count": null,
   "id": "13170396",
   "metadata": {},
   "outputs": [],
   "source": []
  },
  {
   "cell_type": "code",
   "execution_count": null,
   "id": "4b300a2c",
   "metadata": {},
   "outputs": [],
   "source": []
  }
 ],
 "metadata": {
  "kernelspec": {
   "display_name": "Python 3",
   "language": "python",
   "name": "python3"
  },
  "language_info": {
   "codemirror_mode": {
    "name": "ipython",
    "version": 3
   },
   "file_extension": ".py",
   "mimetype": "text/x-python",
   "name": "python",
   "nbconvert_exporter": "python",
   "pygments_lexer": "ipython3",
   "version": "3.8.8"
  }
 },
 "nbformat": 4,
 "nbformat_minor": 5
}
