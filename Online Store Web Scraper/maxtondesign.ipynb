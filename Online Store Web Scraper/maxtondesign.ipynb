{
 "cells": [
  {
   "cell_type": "code",
   "execution_count": 2,
   "id": "fd5dd706",
   "metadata": {},
   "outputs": [
    {
     "data": {
      "text/plain": [
       "41"
      ]
     },
     "execution_count": 2,
     "metadata": {},
     "output_type": "execute_result"
    }
   ],
   "source": [
    "from bs4 import BeautifulSoup\n",
    "from bs4 import NavigableString\n",
    "import requests\n",
    "import time\n",
    "import pandas as pd\n",
    "\n",
    "# Create a Soup for Scrapping\n",
    "def create_soup(url):\n",
    "    page = requests.get(url)\n",
    "    time.sleep(1)\n",
    "    soup = BeautifulSoup(page.content, 'html.parser')\n",
    "    return soup\n",
    "\n",
    "# Return a list with all brands body kits\n",
    "def import_body_kits_url():\n",
    "    url =  'https://www.maxtondesign.co.uk/body-kits'\n",
    "    soup = create_soup(url)\n",
    "    body_kits = soup.find_all('div', class_='category-box')\n",
    "    body_kits_url = []\n",
    "    for body_kit in body_kits:\n",
    "        body_kits_url.append(body_kit.find('a')['href'])\n",
    "    return body_kits_url\n",
    "\n",
    "def get_models_cars(body_kits_url):\n",
    "    body_kits_brand_url = []\n",
    "    soup = create_soup(body_kits_url)\n",
    "    body_kits = soup.find_all('div', class_='category-box')\n",
    "    for kit in body_kits:\n",
    "        body_kits_brand_url.append(kit.find('a')['href'])\n",
    "    return body_kits_brand_url\n",
    "\n",
    "def get_clean_kit_products():\n",
    "    body_kits_url = get_models_cars('https://www.maxtondesign.co.uk/body-kits/volkswagen')\n",
    "    clean_kit_products = []\n",
    "    for url in body_kits_url:\n",
    "        models = get_models_cars(url)\n",
    "        if (len(models) == 0):\n",
    "            clean_kit_products.append(url)\n",
    "        else:\n",
    "            for model in models:\n",
    "                clean_model = get_models_cars(model)\n",
    "                if(len(clean_model) == 0):\n",
    "                    clean_kit_products.append(model)\n",
    "                else:\n",
    "                    for submodel in clean_model:\n",
    "                        clean_kit_products.append(submodel)\n",
    "    return clean_kit_products\n",
    "\n",
    "def get_parts_body_kit():\n",
    "    column_names = [\"Brand\", \"Model\", \"Version\", \"Line\",\"Part\",\"Url_Image\",\"Price\"]\n",
    "    df = pd.DataFrame(columns = column_names)\n",
    "    parts = get_clean_kit_products()\n",
    "    #parts = ['http://www.maxtondesign.co.uk/body-kits/volkswagen/vw-passat/vw-passat-b8/b8-standard']\n",
    "    for url_part in parts:\n",
    "        soup = create_soup(url_part)\n",
    "        soup_model = soup.find_all('div', class_='breadcrumb-wrapper')\n",
    "        models = soup_model[0].find_all('li')\n",
    "        list_model = []\n",
    "        for model in models:\n",
    "            list_model.append(model.text.strip())\n",
    "        list_model.pop(0)\n",
    "        list_model.pop(0)\n",
    "        if(len(list_model) == 2):\n",
    "            list_model.append(\"N/A\")\n",
    "            list_model.append(\"N/A\")\n",
    "        if(len(list_model) == 3):\n",
    "            list_model.append(\"N/A\")\n",
    "        body_kit_parts = soup.find_all('div', class_='product')\n",
    "        for kit_part in body_kit_parts:\n",
    "            list_model.append(kit_part.find('img')['alt'].strip())\n",
    "            list_model.append(kit_part.find('img')['src'].strip())\n",
    "            list_model.append(kit_part.find('span', class_='price').text.strip())\n",
    "            df = df.append(pd.Series(list_model, index = df.columns), ignore_index=True)\n",
    "            list_model.pop()\n",
    "            list_model.pop()\n",
    "            list_model.pop()\n",
    "    df.to_excel(\"wv.xlsx\")  \n",
    "    \n",
    "\n",
    "            "
   ]
  },
  {
   "cell_type": "code",
   "execution_count": null,
   "id": "6a2c1a8a",
   "metadata": {},
   "outputs": [],
   "source": []
  },
  {
   "cell_type": "code",
   "execution_count": null,
   "id": "b7ea7c3d",
   "metadata": {},
   "outputs": [],
   "source": []
  }
 ],
 "metadata": {
  "kernelspec": {
   "display_name": "Python 3",
   "language": "python",
   "name": "python3"
  },
  "language_info": {
   "codemirror_mode": {
    "name": "ipython",
    "version": 3
   },
   "file_extension": ".py",
   "mimetype": "text/x-python",
   "name": "python",
   "nbconvert_exporter": "python",
   "pygments_lexer": "ipython3",
   "version": "3.8.8"
  }
 },
 "nbformat": 4,
 "nbformat_minor": 5
}
