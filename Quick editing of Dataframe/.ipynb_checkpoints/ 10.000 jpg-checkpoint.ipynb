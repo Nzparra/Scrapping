{
 "cells": [
  {
   "cell_type": "code",
   "execution_count": 49,
   "id": "fa53c28a",
   "metadata": {
    "scrolled": true
   },
   "outputs": [
    {
     "name": "stderr",
     "output_type": "stream",
     "text": [
      " 10%|▉         | 999/10000 [01:18<11:47, 12.72it/s]\n"
     ]
    }
   ],
   "source": [
    "import itertools\n",
    "import pandas as pd\n",
    "from tqdm import tqdm\n",
    "\n",
    "df = pd.read_excel('DF_1.xlsx', index_col=0)\n",
    "avatar = []\n",
    "avatar.append(\"Avatar_No\")\n",
    "layer_0 = df['Layer_0'].unique()\n",
    "layer_1 = df['Layer_1'].unique()\n",
    "layer_2 = df['Layer_2'].unique()\n",
    "layer_3 = df['Layer_3'].unique()\n",
    "layer_4 = df['Layer_4'].unique()\n",
    "layer_5 = df['Layer_5'].unique()\n",
    "layer_6 = df['Layer_6'].unique()\n",
    "\n",
    "def check_rows(index,Layer0,Layer1,Layer2,Layer3,Layer4,Layer5,Layer6):\n",
    "    Layer0_check = [ Layer0 == x for x in layer_0]\n",
    "    Layer0_check.insert(0,index)\n",
    "    Layer1_check = [ Layer1 == x for x in layer_1]\n",
    "    Layer2_check = [ Layer2 == x for x in layer_2]\n",
    "    Layer3_check = [ Layer3 == x for x in layer_3]\n",
    "    Layer4_check = [ Layer4 == x for x in layer_4]\n",
    "    Layer5_check = [ Layer5 == x for x in layer_5]\n",
    "    Layer6_check = [ Layer6 == x for x in layer_6]\n",
    "    check_rows = (itertools.chain(Layer0_check,Layer1_check,Layer2_check,Layer3_check,Layer4_check,Layer5_check,Layer6_check))\n",
    "    return check_rows\n",
    "\n",
    "\n",
    "\n",
    "\n",
    "columns = list(itertools.chain(avatar,layer_0,layer_1,layer_2,layer_3,layer_4,layer_5,layer_6))\n",
    "df1 = pd.DataFrame(columns = columns)\n",
    "for index, row in tqdm(list(df.iterrows())):\n",
    "    if (index == 1000):\n",
    "        break\n",
    "    row_list = check_rows(index,row['Layer_0'],row['Layer_1'], row['Layer_2'],\n",
    "                          row['Layer_3'],row['Layer_4'],row['Layer_5'], row['Layer_6'])\n",
    "    df1 = df1.append(pd.Series(row_list, index = df1.columns), ignore_index=True)\n",
    "df1.to_excel('output1.xlsx') "
   ]
  },
  {
   "cell_type": "code",
   "execution_count": null,
   "id": "c6d2e85a",
   "metadata": {},
   "outputs": [],
   "source": []
  }
 ],
 "metadata": {
  "kernelspec": {
   "display_name": "Python 3",
   "language": "python",
   "name": "python3"
  },
  "language_info": {
   "codemirror_mode": {
    "name": "ipython",
    "version": 3
   },
   "file_extension": ".py",
   "mimetype": "text/x-python",
   "name": "python",
   "nbconvert_exporter": "python",
   "pygments_lexer": "ipython3",
   "version": "3.8.8"
  }
 },
 "nbformat": 4,
 "nbformat_minor": 5
}
