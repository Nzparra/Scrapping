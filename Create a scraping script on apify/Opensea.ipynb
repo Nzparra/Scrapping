{
 "cells": [
  {
   "cell_type": "code",
   "execution_count": 136,
   "id": "8918f73f",
   "metadata": {},
   "outputs": [
    {
     "name": "stdout",
     "output_type": "stream",
     "text": [
      "{'createdDate': '2021-03-02 19:42:07.422779', 'name': \"Ethernity's Master Collection\", 'slug': 'ethernity-master', 'logo': 'https://lh3.googleusercontent.com/TFuoLNPI40YZVdmNgQlzh6276un3ZJlDI_txx-izsm3f-QYKIPXkmRsZnTLoIfm4zo1uu0frhb07HPWXMaqqB_Tl1KhYcYBXOjOA=s120', 'stats': {'floorPrice': 0.019, 'marketCap': 967.4058547331013, 'numOwners': 6261.0, 'totalSupply': 14276.0, 'sevenDayChange': -0.8897797861383152, 'sevenDayVolume': 5.35339468505989, 'oneDayChange': 2.069201526281445, 'oneDayVolume': 0.829, 'thirtyDayChange': 39.37754644705226, 'thirtyDayVolume': 270.271144897989, 'totalVolume': 972.73114828653, 'id': 'Q29sbGVjdGlvblN0YXRzVHlwZTo1OTc5Mw=='}, 'id': 'Q29sbGVjdGlvblR5cGU6NTk3OTM=', '__typename': 'CollectionType'}\n"
     ]
    },
    {
     "ename": "TypeError",
     "evalue": "'builtin_function_or_method' object is not iterable",
     "output_type": "error",
     "traceback": [
      "\u001b[1;31m---------------------------------------------------------------------------\u001b[0m",
      "\u001b[1;31mTypeError\u001b[0m                                 Traceback (most recent call last)",
      "\u001b[1;32m<ipython-input-136-2f87aa7b3540>\u001b[0m in \u001b[0;36m<module>\u001b[1;34m\u001b[0m\n\u001b[0;32m     38\u001b[0m \u001b[1;32mfor\u001b[0m \u001b[0mkey\u001b[0m\u001b[1;33m,\u001b[0m \u001b[0mvalue\u001b[0m \u001b[1;32min\u001b[0m \u001b[0mdc\u001b[0m\u001b[1;33m.\u001b[0m\u001b[0mitems\u001b[0m\u001b[1;33m(\u001b[0m\u001b[1;33m)\u001b[0m\u001b[1;33m:\u001b[0m\u001b[1;33m\u001b[0m\u001b[1;33m\u001b[0m\u001b[0m\n\u001b[0;32m     39\u001b[0m     \u001b[1;32mif\u001b[0m\u001b[1;33m(\u001b[0m\u001b[0mkey\u001b[0m \u001b[1;33m==\u001b[0m \u001b[1;34m\"stats\"\u001b[0m\u001b[1;33m)\u001b[0m\u001b[1;33m:\u001b[0m\u001b[1;33m\u001b[0m\u001b[1;33m\u001b[0m\u001b[0m\n\u001b[1;32m---> 40\u001b[1;33m         \u001b[1;32mfor\u001b[0m \u001b[0mi\u001b[0m \u001b[1;32min\u001b[0m \u001b[0mvalue\u001b[0m\u001b[1;33m.\u001b[0m\u001b[0mitems\u001b[0m\u001b[1;33m:\u001b[0m\u001b[1;33m\u001b[0m\u001b[1;33m\u001b[0m\u001b[0m\n\u001b[0m\u001b[0;32m     41\u001b[0m             \u001b[0mprint\u001b[0m\u001b[1;33m(\u001b[0m\u001b[0mi\u001b[0m\u001b[1;33m)\u001b[0m\u001b[1;33m\u001b[0m\u001b[1;33m\u001b[0m\u001b[0m\n",
      "\u001b[1;31mTypeError\u001b[0m: 'builtin_function_or_method' object is not iterable"
     ]
    }
   ],
   "source": [
    "import http.client\n",
    "import time\n",
    "import json\n",
    "import random\n",
    "\n",
    "def json_response(cursor):\n",
    "    conn = http.client.HTTPSConnection(\"api.opensea.io\")\n",
    "\n",
    "    headersList = {\n",
    "     \"Accept\": \"*/*\",\n",
    "     \"User-Agent\": \"Thunder Client (https://www.thunderclient.io)\",\n",
    "     \"Content-Type\": \"application/json\" \n",
    "    }\n",
    "\n",
    "    payload = \"{\\\"id\\\":\\\"rankingsQuery\\\",\\\"query\\\":\\\"query rankingsQuery(\\\\n  $chain: [ChainScalar!]\\\\n  $count: Int!\\\\n  $cursor: String\\\\n  $sortBy: CollectionSort\\\\n  $parents: [CollectionSlug!]\\\\n  $createdAfter: DateTime\\\\n) {\\\\n  ...rankings_collections\\\\n}\\\\n\\\\nfragment rankings_collections on Query {\\\\n  collections(after: $cursor, chains: $chain, first: $count, sortBy: $sortBy, parents: $parents, createdAfter: $createdAfter, sortAscending: false, includeHidden: true, excludeZeroVolume: true) {\\\\n    edges {\\\\n      node {\\\\n        createdDate\\\\n        name\\\\n        slug\\\\n        logo\\\\n        stats {\\\\n          floorPrice\\\\n          marketCap\\\\n          numOwners\\\\n          totalSupply\\\\n          sevenDayChange\\\\n          sevenDayVolume\\\\n          oneDayChange\\\\n          oneDayVolume\\\\n          thirtyDayChange\\\\n          thirtyDayVolume\\\\n          totalVolume\\\\n          id\\\\n        }\\\\n        id\\\\n        __typename\\\\n      }\\\\n      cursor\\\\n    }\\\\n    pageInfo {\\\\n      endCursor\\\\n      hasNextPage\\\\n    }\\\\n  }\\\\n}\\\\n\\\",\\\"variables\\\":{\\\"count\\\":100,\\\"cursor\\\":\\\"{fcursor}\\\",\\\"sortBy\\\":\\\"SEVEN_DAY_VOLUME\\\"}}\"\n",
    "    payload2 = payload.replace(\"{fcursor}\", cursor)\n",
    "    conn.request(\"GET\", \"/graphql/\", payload2, headersList)\n",
    "    response = conn.getresponse()\n",
    "    time.sleep(random.uniform(1.0, 2.0))\n",
    "    result = response.read().decode(\"utf-8\")\n",
    "    data = json.loads(result)\n",
    "    return (data['data']['collections']['edges'], data['data']['collections']['pageInfo'])\n",
    "\n",
    "def get_columns_for_df(ntfs):\n",
    "    for x in range(len(ntfs)):\n",
    "        print(ntfs[x]['node'])\n",
    "        return ntfs[x]['node']\n",
    "\n",
    "def obtain_excel_file():    \n",
    "    cursor = {'endCursor': '', 'hasNextPage': True}\n",
    "    while cursor['hasNextPage']:\n",
    "        ntfs, cursor = json_response(cursor['endCursor'])\n",
    "        save_data_to_df(ntfs)\n",
    "        break\n",
    "\n",
    "ntfs, cursor = json_response(cursor['endCursor'])\n",
    "dc = get_columns_for_df(ntfs)\n",
    "for key, value in dc.items():\n",
    "    if(key == \"stats\"):\n",
    "        for i in value.items:\n",
    "            print(i)"
   ]
  },
  {
   "cell_type": "code",
   "execution_count": null,
   "id": "6dd89f9a",
   "metadata": {},
   "outputs": [],
   "source": []
  },
  {
   "cell_type": "code",
   "execution_count": null,
   "id": "957560ce",
   "metadata": {},
   "outputs": [],
   "source": []
  }
 ],
 "metadata": {
  "kernelspec": {
   "display_name": "Python 3",
   "language": "python",
   "name": "python3"
  },
  "language_info": {
   "codemirror_mode": {
    "name": "ipython",
    "version": 3
   },
   "file_extension": ".py",
   "mimetype": "text/x-python",
   "name": "python",
   "nbconvert_exporter": "python",
   "pygments_lexer": "ipython3",
   "version": "3.8.8"
  }
 },
 "nbformat": 4,
 "nbformat_minor": 5
}
