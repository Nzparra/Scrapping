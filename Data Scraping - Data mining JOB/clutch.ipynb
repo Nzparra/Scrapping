{
 "cells": [
  {
   "cell_type": "code",
   "execution_count": 63,
   "id": "19a43aa7",
   "metadata": {},
   "outputs": [
    {
     "name": "stdout",
     "output_type": "stream",
     "text": [
      "{'origin': '186.154.58.29'}\n"
     ]
    }
   ],
   "source": [
    "from bs4 import BeautifulSoup\n",
    "from bs4 import NavigableString\n",
    "import time\n",
    "import requests\n",
    "import pandas as pd\n",
    "\n",
    "\n",
    "# Create a Soup for Scrapping\n",
    "def create_soup(url):\n",
    "    proxies = {\n",
    "        \"http\": '115.77.191.180', \n",
    "        \"http\": '103.3.147.147',\n",
    "        \"http\": '15.188.180.168'\n",
    "        \n",
    "    }\n",
    "    page = requests.get(url)\n",
    "    time.sleep(1)\n",
    "    soup = BeautifulSoup(page.content, 'html.parser')\n",
    "    return soup\n",
    "\n",
    "def find_last_page():\n",
    "    url =  'https://clutch.co/uk/app-developers'\n",
    "    soup = create_soup(url)\n",
    "    print(soup)\n",
    "    last_url = soup.find_all('li', class_='page-item last')\n",
    "    for url in last_url:\n",
    "        url = url.find('a')['data-page']\n",
    "    return int(url)\n",
    "\n",
    "def obtain_page_data(url):\n",
    "    url =  f'https://clutch.co/profile/{url}'\n",
    "    print(url)\n",
    "    soup = create_soup(url)\n",
    "    print(soup)\n",
    "    page_data = soup.find_all('div', class_='col-md-6 summary-description')\n",
    "    for data in page_data:\n",
    "        print(data.find('h2', class_='h2_title'))\n",
    "\n",
    "\n",
    "def obtain_page_url(url):\n",
    "    soup = create_soup(url)\n",
    "    developer_info = soup.find_all('div', class_='provider-info col-md-10')\n",
    "    for developer in developer_info:\n",
    "        url_page = developer.find('a')['href']\n",
    "        obtain_page_data(url_page)\n",
    "        break\n",
    "        \n",
    "\n",
    "def obtain_developer_dict():\n",
    "    last_page = find_last_page() + 1\n",
    "    for page in range (0,1):\n",
    "        url =  f'https://clutch.co/uk/app-developers?page={page}'\n",
    "        obtain_page_url(url)\n",
    "\n",
    "list_proxies()"
   ]
  },
  {
   "cell_type": "code",
   "execution_count": 14,
   "id": "bd23d8e7",
   "metadata": {},
   "outputs": [
    {
     "name": "stdout",
     "output_type": "stream",
     "text": [
      "Request #1\n",
      "Skipping. Connnection error\n",
      "Request #2\n",
      "Skipping. Connnection error\n",
      "Request #3\n",
      "Skipping. Connnection error\n",
      "Request #4\n",
      "Skipping. Connnection error\n",
      "Request #5\n",
      "Skipping. Connnection error\n",
      "Request #6\n",
      "Skipping. Connnection error\n",
      "Request #7\n",
      "Skipping. Connnection error\n",
      "Request #8\n",
      "Skipping. Connnection error\n",
      "Request #9\n",
      "Skipping. Connnection error\n",
      "Request #10\n",
      "Skipping. Connnection error\n"
     ]
    }
   ],
   "source": [
    "from lxml.html import fromstring\n",
    "import requests\n",
    "from itertools import cycle\n",
    "import traceback\n",
    "def get_proxies():\n",
    "    url = 'https://free-proxy-list.net/'\n",
    "    response = requests.get(url)\n",
    "    parser = fromstring(response.text)\n",
    "    proxies = set()\n",
    "    for i in parser.xpath('//tbody/tr')[:10]:\n",
    "        if i.xpath('.//td[7][contains(text(),\"yes\")]'):\n",
    "            proxy = \":\".join([i.xpath('.//td[1]/text()')[0], i.xpath('.//td[2]/text()')[0]])\n",
    "            proxies.add(proxy)\n",
    "    return proxies\n",
    "#If you are copy pasting proxy ips, put in the list below\n",
    "proxies = ['51.91.111.43:80', '52.43.61.135:80', '206.253.164.118', '194.182.64.67:3128', '106.0.38.174:8080', '163.172.175.210:3128', '13.92.196.150:8080']\n",
    "#proxies = get_proxies()\n",
    "proxy_pool = cycle(proxies)\n",
    "url = 'https://httpbin.org/ip'\n",
    "for i in range(1,11):\n",
    "#Get a proxy from the pool\n",
    "    proxy = next(proxy_pool)\n",
    "    print(\"Request #%d\"%i)\n",
    "    try:\n",
    "        response = requests.get(url,proxies={\"http\": proxy, \"https\": proxy})\n",
    "        print(response.json())\n",
    "    except:\n",
    "#Most free proxies will often get connection errors. You will have retry the entire request using another proxy to work. \n",
    "#We will just skip retries as its beyond the scope of this tutorial and we are only downloading a single url \n",
    "        print(\"Skipping. Connnection error\")"
   ]
  },
  {
   "cell_type": "code",
   "execution_count": null,
   "id": "29c111f7",
   "metadata": {},
   "outputs": [],
   "source": []
  },
  {
   "cell_type": "code",
   "execution_count": null,
   "id": "c91c62d1",
   "metadata": {},
   "outputs": [],
   "source": []
  }
 ],
 "metadata": {
  "kernelspec": {
   "display_name": "Python 3",
   "language": "python",
   "name": "python3"
  },
  "language_info": {
   "codemirror_mode": {
    "name": "ipython",
    "version": 3
   },
   "file_extension": ".py",
   "mimetype": "text/x-python",
   "name": "python",
   "nbconvert_exporter": "python",
   "pygments_lexer": "ipython3",
   "version": "3.8.8"
  }
 },
 "nbformat": 4,
 "nbformat_minor": 5
}
